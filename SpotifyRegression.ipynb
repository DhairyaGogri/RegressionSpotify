{
 "cells": [
  {
   "cell_type": "markdown",
   "metadata": {},
   "source": [
    "# Spotify songs popularity Prediction\n"
   ]
  },
  {
   "cell_type": "markdown",
   "metadata": {},
   "source": [
    "# Introduction\n",
    "Spotify is popular application for streaming songs ,audio podcasts and many more.In this assignment our main aim is to predict the popularity of the songs by using different attributes given in the dataset such as danceablity, valence, db, energy,etc.. Using these attributes we are making a machine learning model that gives a popularity prediction that can be used to predict the popularity of other songs which can help artists and labels to identify popular songsand produce songs that have high chance of popularity. Jupyter notebook shows the information on handeling the typical reggression problem. **Regression** It is a statistical technique that relates a dependent variable to one or more independent variables. This workbook shows our approach starting from handeling the data to visualisation and implementing different models to predict the variable.\n",
    "The data we have used has various attributes of a song as mentioned below-\t\n",
    "\n",
    "**Id**-Each Song has a unique Id. It does not provide any relevant information and it has no correlation with the data\n",
    "**Title**-Title Track. It is mostly different for every song and it is not useful so we will drop it as it is categorical\n",
    "**Artist**-Name of the artist. Artist can have plenty songs but its categorical value and we will be dropping it as well\n",
    "**Top genre**-It defines the genre of the song.\n",
    "**year**-year in which song is released\n",
    "**Bpm**-beats per minute. It is very important factor. Each genre has different Bpm\t\n",
    "**nrgy**-energy\tis the measure of energy and intensity and its value ranges from 0.0 to 1.0\n",
    "**dnce**-danceability of a song describes how good is a song to dance on. The range of dancebility varies from 0.0 to 1.0.\t\n",
    "**dB**-loudness. A good song has usually range of dB of 60 - 85. \n",
    "**live**-liveness. Higher liveness represent increased probability that song was performed live.\t\n",
    "**val**-valence(higher value means more positive mood for the song)\n",
    "**dur**-length of the song.\n",
    "**acous**-acousticness of the song.It is science that deals with the study of sound, its production, transmission, and effects.\n",
    "**spch**-speechiness is the vocal phrasing of a song \n",
    "**pop**-popularity score. This is the data which we want to predict using various models. We will carry out numerical analysis to predict the values in this column."
   ]
  },
  {
   "cell_type": "markdown",
   "metadata": {},
   "source": [
    "# 1. Packages used\n",
    "**1.pandas**- to read csv file and working with datasets.\n",
    "**2.numpy**- for manipulating data and performing mathematical operations on the dataset.\n",
    "**3.matplotlib**- for plotting graphs and visualisation of the data.\n",
    "**4.seaborn**- for plotting the corelation matrix in the form of heatmap.\n",
    "**5.sklearn**- library for using different machine learning models to train our models.The models we have used are:\n",
    "          **a.Linear reggression b.Support Vector Machine  c.Random Forest d.Decision Tree e.Gradient boosting regressor.**\n",
    "**6.sklearn.metrics**- library to evaluate the quality of models prediction."
   ]
  },
  {
   "cell_type": "code",
   "execution_count": 1,
   "metadata": {
    "executionInfo": {
     "elapsed": 920,
     "status": "ok",
     "timestamp": 1676640861527,
     "user": {
      "displayName": "ABHISHEK ABHI",
      "userId": "09081140127296701179"
     },
     "user_tz": 0
    },
    "id": "swrcp6f782ij"
   },
   "outputs": [],
   "source": [
    "import pandas as pd #To load the dataset\n",
    "import matplotlib.pyplot as plt\n",
    "import numpy as np\n",
    "import seaborn as sns\n",
    "from sklearn.ensemble import GradientBoostingRegressor\n",
    "from sklearn.ensemble import RandomForestRegressor\n",
    "from sklearn.svm import SVR\n",
    "from sklearn import metrics\n",
    "from sklearn.metrics import mean_squared_error \n",
    "from sklearn.linear_model import LinearRegression\n",
    "from sklearn.preprocessing import MinMaxScaler, RobustScaler"
   ]
  },
  {
   "cell_type": "code",
   "execution_count": 2,
   "metadata": {
    "executionInfo": {
     "elapsed": 655,
     "status": "ok",
     "timestamp": 1676640863611,
     "user": {
      "displayName": "ABHISHEK ABHI",
      "userId": "09081140127296701179"
     },
     "user_tz": 0
    },
    "id": "CP7sEyod9aYh"
   },
   "outputs": [],
   "source": [
    "song_train_data=pd.read_csv(\"CS98XRegressionTrain.csv\") # Load the Training data\n",
    "song_test_data= pd.read_csv(\"CS98XRegressionTest.csv\") # Load the Testing data"
   ]
  },
  {
   "cell_type": "markdown",
   "metadata": {},
   "source": [
    "# 2.Exploratory and preprocessing of the data\n",
    "Here we have explored the raw data. This is helpful in looking the basic format of the dataset. After looking at data we clean it for better performance and good accuracy of our models. First we have get the mathematical description of the dataset. After looking at the description we will look for null and duplicate values in dataset and remove the rows with null values. There are 15 null values and 0 duplicate values. We have eradicated all of these."
   ]
  },
  {
   "cell_type": "code",
   "execution_count": 3,
   "metadata": {
    "colab": {
     "base_uri": "https://localhost:8080/",
     "height": 300
    },
    "executionInfo": {
     "elapsed": 294,
     "status": "ok",
     "timestamp": 1676640867824,
     "user": {
      "displayName": "ABHISHEK ABHI",
      "userId": "09081140127296701179"
     },
     "user_tz": 0
    },
    "id": "kBkQuxlkR-GH",
    "outputId": "b79bd957-c717-4d0f-f222-167874508676"
   },
   "outputs": [
    {
     "data": {
      "text/html": [
       "<div>\n",
       "<style scoped>\n",
       "    .dataframe tbody tr th:only-of-type {\n",
       "        vertical-align: middle;\n",
       "    }\n",
       "\n",
       "    .dataframe tbody tr th {\n",
       "        vertical-align: top;\n",
       "    }\n",
       "\n",
       "    .dataframe thead th {\n",
       "        text-align: right;\n",
       "    }\n",
       "</style>\n",
       "<table border=\"1\" class=\"dataframe\">\n",
       "  <thead>\n",
       "    <tr style=\"text-align: right;\">\n",
       "      <th></th>\n",
       "      <th>Id</th>\n",
       "      <th>year</th>\n",
       "      <th>bpm</th>\n",
       "      <th>nrgy</th>\n",
       "      <th>dnce</th>\n",
       "      <th>dB</th>\n",
       "      <th>live</th>\n",
       "      <th>val</th>\n",
       "      <th>dur</th>\n",
       "      <th>acous</th>\n",
       "      <th>spch</th>\n",
       "      <th>pop</th>\n",
       "    </tr>\n",
       "  </thead>\n",
       "  <tbody>\n",
       "    <tr>\n",
       "      <th>count</th>\n",
       "      <td>453.000000</td>\n",
       "      <td>453.000000</td>\n",
       "      <td>453.000000</td>\n",
       "      <td>453.000000</td>\n",
       "      <td>453.000000</td>\n",
       "      <td>453.000000</td>\n",
       "      <td>453.000000</td>\n",
       "      <td>453.000000</td>\n",
       "      <td>453.000000</td>\n",
       "      <td>453.000000</td>\n",
       "      <td>453.000000</td>\n",
       "      <td>453.000000</td>\n",
       "    </tr>\n",
       "    <tr>\n",
       "      <th>mean</th>\n",
       "      <td>227.000000</td>\n",
       "      <td>1991.443709</td>\n",
       "      <td>118.399558</td>\n",
       "      <td>60.070640</td>\n",
       "      <td>59.565121</td>\n",
       "      <td>-8.836645</td>\n",
       "      <td>17.757174</td>\n",
       "      <td>59.465784</td>\n",
       "      <td>226.278146</td>\n",
       "      <td>32.982340</td>\n",
       "      <td>5.660044</td>\n",
       "      <td>60.743929</td>\n",
       "    </tr>\n",
       "    <tr>\n",
       "      <th>std</th>\n",
       "      <td>130.914094</td>\n",
       "      <td>16.776103</td>\n",
       "      <td>25.238713</td>\n",
       "      <td>22.205284</td>\n",
       "      <td>15.484458</td>\n",
       "      <td>3.577187</td>\n",
       "      <td>13.830300</td>\n",
       "      <td>24.539868</td>\n",
       "      <td>63.770380</td>\n",
       "      <td>29.530015</td>\n",
       "      <td>5.550581</td>\n",
       "      <td>13.470083</td>\n",
       "    </tr>\n",
       "    <tr>\n",
       "      <th>min</th>\n",
       "      <td>1.000000</td>\n",
       "      <td>1948.000000</td>\n",
       "      <td>62.000000</td>\n",
       "      <td>7.000000</td>\n",
       "      <td>18.000000</td>\n",
       "      <td>-24.000000</td>\n",
       "      <td>2.000000</td>\n",
       "      <td>6.000000</td>\n",
       "      <td>98.000000</td>\n",
       "      <td>0.000000</td>\n",
       "      <td>2.000000</td>\n",
       "      <td>26.000000</td>\n",
       "    </tr>\n",
       "    <tr>\n",
       "      <th>25%</th>\n",
       "      <td>114.000000</td>\n",
       "      <td>1976.000000</td>\n",
       "      <td>100.000000</td>\n",
       "      <td>43.000000</td>\n",
       "      <td>49.000000</td>\n",
       "      <td>-11.000000</td>\n",
       "      <td>9.000000</td>\n",
       "      <td>42.000000</td>\n",
       "      <td>181.000000</td>\n",
       "      <td>7.000000</td>\n",
       "      <td>3.000000</td>\n",
       "      <td>53.000000</td>\n",
       "    </tr>\n",
       "    <tr>\n",
       "      <th>50%</th>\n",
       "      <td>227.000000</td>\n",
       "      <td>1994.000000</td>\n",
       "      <td>119.000000</td>\n",
       "      <td>63.000000</td>\n",
       "      <td>61.000000</td>\n",
       "      <td>-8.000000</td>\n",
       "      <td>13.000000</td>\n",
       "      <td>61.000000</td>\n",
       "      <td>223.000000</td>\n",
       "      <td>24.000000</td>\n",
       "      <td>4.000000</td>\n",
       "      <td>63.000000</td>\n",
       "    </tr>\n",
       "    <tr>\n",
       "      <th>75%</th>\n",
       "      <td>340.000000</td>\n",
       "      <td>2007.000000</td>\n",
       "      <td>133.000000</td>\n",
       "      <td>78.000000</td>\n",
       "      <td>70.000000</td>\n",
       "      <td>-6.000000</td>\n",
       "      <td>23.000000</td>\n",
       "      <td>80.000000</td>\n",
       "      <td>262.000000</td>\n",
       "      <td>58.000000</td>\n",
       "      <td>6.000000</td>\n",
       "      <td>71.000000</td>\n",
       "    </tr>\n",
       "    <tr>\n",
       "      <th>max</th>\n",
       "      <td>453.000000</td>\n",
       "      <td>2019.000000</td>\n",
       "      <td>199.000000</td>\n",
       "      <td>100.000000</td>\n",
       "      <td>96.000000</td>\n",
       "      <td>-1.000000</td>\n",
       "      <td>93.000000</td>\n",
       "      <td>99.000000</td>\n",
       "      <td>511.000000</td>\n",
       "      <td>100.000000</td>\n",
       "      <td>47.000000</td>\n",
       "      <td>84.000000</td>\n",
       "    </tr>\n",
       "  </tbody>\n",
       "</table>\n",
       "</div>"
      ],
      "text/plain": [
       "               Id         year         bpm        nrgy        dnce  \\\n",
       "count  453.000000   453.000000  453.000000  453.000000  453.000000   \n",
       "mean   227.000000  1991.443709  118.399558   60.070640   59.565121   \n",
       "std    130.914094    16.776103   25.238713   22.205284   15.484458   \n",
       "min      1.000000  1948.000000   62.000000    7.000000   18.000000   \n",
       "25%    114.000000  1976.000000  100.000000   43.000000   49.000000   \n",
       "50%    227.000000  1994.000000  119.000000   63.000000   61.000000   \n",
       "75%    340.000000  2007.000000  133.000000   78.000000   70.000000   \n",
       "max    453.000000  2019.000000  199.000000  100.000000   96.000000   \n",
       "\n",
       "               dB        live         val         dur       acous        spch  \\\n",
       "count  453.000000  453.000000  453.000000  453.000000  453.000000  453.000000   \n",
       "mean    -8.836645   17.757174   59.465784  226.278146   32.982340    5.660044   \n",
       "std      3.577187   13.830300   24.539868   63.770380   29.530015    5.550581   \n",
       "min    -24.000000    2.000000    6.000000   98.000000    0.000000    2.000000   \n",
       "25%    -11.000000    9.000000   42.000000  181.000000    7.000000    3.000000   \n",
       "50%     -8.000000   13.000000   61.000000  223.000000   24.000000    4.000000   \n",
       "75%     -6.000000   23.000000   80.000000  262.000000   58.000000    6.000000   \n",
       "max     -1.000000   93.000000   99.000000  511.000000  100.000000   47.000000   \n",
       "\n",
       "              pop  \n",
       "count  453.000000  \n",
       "mean    60.743929  \n",
       "std     13.470083  \n",
       "min     26.000000  \n",
       "25%     53.000000  \n",
       "50%     63.000000  \n",
       "75%     71.000000  \n",
       "max     84.000000  "
      ]
     },
     "execution_count": 3,
     "metadata": {},
     "output_type": "execute_result"
    }
   ],
   "source": [
    "song_train_data.describe() # Statistical value of numerical columns of the song_train_data"
   ]
  },
  {
   "cell_type": "markdown",
   "metadata": {
    "id": "Q1jjfR9PShwa"
   },
   "source": [
    "By computing and displaying summary statistics using the Describe() function, we can see that the mean of the pop column is 60. The pop might have a number as high as 84 or as low as 26, respectively. The related percentiles, which show the values below which a particular percentage of observations in a collection of observations fall, are shown in the 25%, 50%, and 75% rows."
   ]
  },
  {
   "cell_type": "code",
   "execution_count": 4,
   "metadata": {
    "colab": {
     "base_uri": "https://localhost:8080/"
    },
    "executionInfo": {
     "elapsed": 288,
     "status": "ok",
     "timestamp": 1676640871711,
     "user": {
      "displayName": "ABHISHEK ABHI",
      "userId": "09081140127296701179"
     },
     "user_tz": 0
    },
    "id": "e9IiBawND1Z5",
    "outputId": "08f60907-8af6-4e44-b8bc-dc63ab234d07"
   },
   "outputs": [
    {
     "name": "stdout",
     "output_type": "stream",
     "text": [
      "<class 'pandas.core.frame.DataFrame'>\n",
      "RangeIndex: 453 entries, 0 to 452\n",
      "Data columns (total 15 columns):\n",
      " #   Column     Non-Null Count  Dtype \n",
      "---  ------     --------------  ----- \n",
      " 0   Id         453 non-null    int64 \n",
      " 1   title      453 non-null    object\n",
      " 2   artist     453 non-null    object\n",
      " 3   top genre  438 non-null    object\n",
      " 4   year       453 non-null    int64 \n",
      " 5   bpm        453 non-null    int64 \n",
      " 6   nrgy       453 non-null    int64 \n",
      " 7   dnce       453 non-null    int64 \n",
      " 8   dB         453 non-null    int64 \n",
      " 9   live       453 non-null    int64 \n",
      " 10  val        453 non-null    int64 \n",
      " 11  dur        453 non-null    int64 \n",
      " 12  acous      453 non-null    int64 \n",
      " 13  spch       453 non-null    int64 \n",
      " 14  pop        453 non-null    int64 \n",
      "dtypes: int64(12), object(3)\n",
      "memory usage: 53.2+ KB\n"
     ]
    }
   ],
   "source": [
    "song_train_data.info() # Find the data structure of dataset."
   ]
  },
  {
   "cell_type": "markdown",
   "metadata": {
    "id": "ywKLWiJBWlZq"
   },
   "source": [
    "There are 453 rows of data in every column of song_train_data except 'top genre' column which has 438 rows other 15 rows are missing (Null value). So we drop the rows associated with missing values."
   ]
  },
  {
   "cell_type": "code",
   "execution_count": 5,
   "metadata": {
    "colab": {
     "base_uri": "https://localhost:8080/"
    },
    "executionInfo": {
     "elapsed": 362,
     "status": "ok",
     "timestamp": 1676640875783,
     "user": {
      "displayName": "ABHISHEK ABHI",
      "userId": "09081140127296701179"
     },
     "user_tz": 0
    },
    "id": "XbfUhehvENk4",
    "outputId": "b5443ab6-8deb-44f4-8a5e-480f13f8e4bd"
   },
   "outputs": [
    {
     "data": {
      "text/plain": [
       "0"
      ]
     },
     "execution_count": 5,
     "metadata": {},
     "output_type": "execute_result"
    }
   ],
   "source": [
    "song_train_data=song_train_data.dropna() #Dropping the null values in the dataset\n",
    "song_train_data.duplicated().sum() # Duplicate value- Check if there is any duplicate value."
   ]
  },
  {
   "cell_type": "code",
   "execution_count": 6,
   "metadata": {
    "executionInfo": {
     "elapsed": 4,
     "status": "ok",
     "timestamp": 1676640881362,
     "user": {
      "displayName": "ABHISHEK ABHI",
      "userId": "09081140127296701179"
     },
     "user_tz": 0
    },
    "id": "EUjWgLIUcVk6"
   },
   "outputs": [],
   "source": [
    "song_train_data= song_train_data.drop([\"title\",\"artist\", \"top genre\"], axis=1) # Dropping the categorical column "
   ]
  },
  {
   "cell_type": "markdown",
   "metadata": {
    "id": "aWgyaDDfYvTl"
   },
   "source": [
    "# 3.Feature selection \n",
    "\n",
    "Now we want to eliminate extraneous data, which can lower accuracy or will have no effect on accuracy. In order to shorten training time and remove noise, we want to choose a subset of the features we already have. we consider the features that have linear correlation to help us do that."
   ]
  },
  {
   "cell_type": "code",
   "execution_count": 7,
   "metadata": {
    "colab": {
     "base_uri": "https://localhost:8080/",
     "height": 487
    },
    "executionInfo": {
     "elapsed": 1510,
     "status": "ok",
     "timestamp": 1676640886186,
     "user": {
      "displayName": "ABHISHEK ABHI",
      "userId": "09081140127296701179"
     },
     "user_tz": 0
    },
    "id": "l_UEjR0-Cm_k",
    "outputId": "c3af1ddd-4d9f-4452-bc63-84f12cbb2eb8"
   },
   "outputs": [
    {
     "data": {
      "image/png": "[encoded data removed]",
      "text/plain": [
       "<Figure size 1000x300 with 2 Axes>"
      ]
     },
     "metadata": {},
     "output_type": "display_data"
    }
   ],
   "source": [
    "# finding  the correlation of attributes by using heat map.\n",
    "figure, axis=plt.subplots(figsize=(10,3))\n",
    "corr=song_train_data.corr()\n",
    "sns.heatmap(corr, annot=True, cmap=plt.cm.Reds, ax=axis)\n",
    "plt.show()"
   ]
  },
  {
   "cell_type": "markdown",
   "metadata": {
    "id": "5_X6dGG7ZdO-"
   },
   "source": [
    "# 4.Data Analysis\n",
    "From the heat map we can observe that various attributes 'Id', 'year', 'live', 'val', 'bpm' have weak or inverse correlation to the popularity column(pop). so for better accuracy it's wise to drop these attributes. Other imporant observations are-\n",
    "\n",
    "1.acous is giving negative corelation still we have not dropped acous column because it has a very high negative impact on the popularity, so, it is important for us to keep this column to train our models.\n",
    "\n",
    "2.nrgy, dnce, dB, dur, acous, spch are giving a strong corelation with popularity which will play a good impact on the building the model with good accuracy score.\n",
    "\n",
    "3.There are many attributes such as Id, year, val,etc. which have very weak corelation with popularity.So, they are not very lokely to impact the popularity of the song.Hence these columns are dropped from the dataset in the subsequent steps."
   ]
  },
  {
   "cell_type": "code",
   "execution_count": 8,
   "metadata": {
    "colab": {
     "base_uri": "https://localhost:8080/",
     "height": 206
    },
    "executionInfo": {
     "elapsed": 707,
     "status": "ok",
     "timestamp": 1676640890278,
     "user": {
      "displayName": "ABHISHEK ABHI",
      "userId": "09081140127296701179"
     },
     "user_tz": 0
    },
    "id": "RwWbT_eUDUmd",
    "outputId": "52f449ac-2927-4215-bc5c-80d08bd58a02"
   },
   "outputs": [],
   "source": [
    "#We have defined new variable as 'Id' as values starting from 0 so that it would be easy focus to check for the null values and handle the test data more conveniently.\n",
    "Id=song_test_data.iloc[:,0]\n",
    "song_train_data= song_train_data.drop([\"Id\", \"year\", \"val\", \"bpm\", \"live\"], axis=1)"
   ]
  },
  {
   "cell_type": "code",
   "execution_count": 9,
   "metadata": {
    "colab": {
     "base_uri": "https://localhost:8080/",
     "height": 206
    },
    "executionInfo": {
     "elapsed": 280,
     "status": "ok",
     "timestamp": 1676640893717,
     "user": {
      "displayName": "ABHISHEK ABHI",
      "userId": "09081140127296701179"
     },
     "user_tz": 0
    },
    "id": "cXv3HW8UcDZ0",
    "outputId": "049c34bf-734d-4f1e-ebdb-9cf2551cef00"
   },
   "outputs": [],
   "source": [
    "##Dropping the columns that are not highly impacting the popularity as observed from the heatmap.\n",
    "song_test_data=song_test_data.drop([\"Id\", \"year\",\"val\", \"live\", \"bpm\", \"title\",\"artist\", \"top genre\"], axis=1)"
   ]
  },
  {
   "cell_type": "markdown",
   "metadata": {},
   "source": [
    "Now transform the acosutic data since we have the negative values. For that we need robust scalar so that scaling is immune to outliners"
   ]
  },
  {
   "cell_type": "code",
   "execution_count": 10,
   "metadata": {
    "colab": {
     "base_uri": "https://localhost:8080/",
     "height": 283
    },
    "executionInfo": {
     "elapsed": 316,
     "status": "ok",
     "timestamp": 1676647750391,
     "user": {
      "displayName": "ABHISHEK ABHI",
      "userId": "09081140127296701179"
     },
     "user_tz": 0
    },
    "id": "5EZ_fOTD_ZX7",
    "outputId": "c587711a-19c8-4ae2-b922-11baa081cead"
   },
   "outputs": [
    {
     "data": {
      "text/plain": [
       "<AxesSubplot:ylabel='Density'>"
      ]
     },
     "execution_count": 10,
     "metadata": {},
     "output_type": "execute_result"
    },
    {
     "data": {
      "image/png": "[encoded data removed]",
      "text/plain": [
       "<Figure size 500x300 with 1 Axes>"
      ]
     },
     "metadata": {},
     "output_type": "display_data"
    }
   ],
   "source": [
    "song_train_data.acous.plot.density(color=\"green\" ,figsize=(5,3))"
   ]
  },
  {
   "cell_type": "code",
   "execution_count": 11,
   "metadata": {
    "executionInfo": {
     "elapsed": 576,
     "status": "ok",
     "timestamp": 1676648063091,
     "user": {
      "displayName": "ABHISHEK ABHI",
      "userId": "09081140127296701179"
     },
     "user_tz": 0
    },
    "id": "HxbMpqt574db"
   },
   "outputs": [],
   "source": [
    "##Here we have used MinMaxScaler and RobustScaler to normalise the data and Scale the data for better plot\n",
    "scalar=RobustScaler() \n",
    "song_train_data[\"acous\"]=scalar.fit_transform(np.array(song_train_data[\"acous\"]).reshape(-1,1))"
   ]
  },
  {
   "cell_type": "markdown",
   "metadata": {},
   "source": [
    "**linear regression**: It uses independent variables to estimate the value of dependent variables in dataset."
   ]
  },
  {
   "cell_type": "code",
   "execution_count": 12,
   "metadata": {
    "executionInfo": {
     "elapsed": 9,
     "status": "ok",
     "timestamp": 1676648066034,
     "user": {
      "displayName": "ABHISHEK ABHI",
      "userId": "09081140127296701179"
     },
     "user_tz": 0
    },
    "id": "gnFjYX0AQf2N"
   },
   "outputs": [],
   "source": [
    "# Build a Linear regression model. Define x=indepent variables, y=target variable \n",
    "x=song_train_data.drop([\"pop\"], axis=1)\n",
    "y=song_train_data[\"pop\"]\n",
    "# Now split the data into train and test data\n",
    "from sklearn import model_selection\n",
    "x_train, x_test, y_train, y_test=model_selection.train_test_split(x, y, test_size=0.2, random_state=42)"
   ]
  },
  {
   "cell_type": "code",
   "execution_count": 13,
   "metadata": {
    "colab": {
     "base_uri": "https://localhost:8080/"
    },
    "executionInfo": {
     "elapsed": 284,
     "status": "ok",
     "timestamp": 1676648069387,
     "user": {
      "displayName": "ABHISHEK ABHI",
      "userId": "09081140127296701179"
     },
     "user_tz": 0
    },
    "id": "-w77jKv2S4Yx",
    "outputId": "4f16e13b-2658-4b70-8186-a16fb725aed3"
   },
   "outputs": [
    {
     "data": {
      "text/plain": [
       "0.3643613408559908"
      ]
     },
     "execution_count": 13,
     "metadata": {},
     "output_type": "execute_result"
    }
   ],
   "source": [
    "lnr=LinearRegression() #Importing the linear regression model to train the data\n",
    "lnr.fit(x_train, y_train) # to fit the linear model\n",
    "y_pred= lnr.predict(x_test) # Making prediction of the model\n",
    "lnr.score(x_test, y_test)# Accuracy"
   ]
  },
  {
   "cell_type": "markdown",
   "metadata": {},
   "source": [
    "After getting these values we have used to predict the test data and the accuracy score for our model. Finally we have calculated **RMSE(ROOT MEAN SQUARE ERROR)** for evaluation of our model."
   ]
  },
  {
   "cell_type": "code",
   "execution_count": 14,
   "metadata": {
    "colab": {
     "base_uri": "https://localhost:8080/"
    },
    "executionInfo": {
     "elapsed": 279,
     "status": "ok",
     "timestamp": 1676648083696,
     "user": {
      "displayName": "ABHISHEK ABHI",
      "userId": "09081140127296701179"
     },
     "user_tz": 0
    },
    "id": "e1MCk_zbZoBx",
    "outputId": "c5b44d72-da32-471c-fa3d-4724103c6006"
   },
   "outputs": [
    {
     "name": "stdout",
     "output_type": "stream",
     "text": [
      "9.7083671145242\n"
     ]
    }
   ],
   "source": [
    "rmse_lr= np.sqrt(metrics.mean_squared_error(y_test, y_pred)) # model evaluation\n",
    "print(rmse_lr) #To find error of model we use rmse."
   ]
  },
  {
   "cell_type": "markdown",
   "metadata": {
    "id": "71ZrGAKlk044"
   },
   "source": [
    "**SVM**: It uses supervised learning to make predictions about discrete values. The SVMs and Support Vector Regression both operate on the same theory. Finding the optimum fit line is the fundamental tenet of SVR. The hyperplane with the most points is the best-fitting line in SVR."
   ]
  },
  {
   "cell_type": "code",
   "execution_count": 15,
   "metadata": {
    "colab": {
     "base_uri": "https://localhost:8080/"
    },
    "executionInfo": {
     "elapsed": 1215,
     "status": "ok",
     "timestamp": 1676640919743,
     "user": {
      "displayName": "ABHISHEK ABHI",
      "userId": "09081140127296701179"
     },
     "user_tz": 0
    },
    "id": "qgQEaI7qlVoZ",
    "outputId": "a1a013c8-3a60-4d16-aa0c-3a769d868be3"
   },
   "outputs": [],
   "source": [
    "# Building a model using support vector machine (SVM) \n",
    "rgr_svm=SVR(kernel='linear') # a Gaussian type parameter\n",
    "rgr_svm.fit(x,y)\n",
    "y_pred_svm=rgr_svm.predict(x_test)"
   ]
  },
  {
   "cell_type": "code",
   "execution_count": 16,
   "metadata": {
    "colab": {
     "base_uri": "https://localhost:8080/"
    },
    "executionInfo": {
     "elapsed": 690,
     "status": "ok",
     "timestamp": 1676640924107,
     "user": {
      "displayName": "ABHISHEK ABHI",
      "userId": "09081140127296701179"
     },
     "user_tz": 0
    },
    "id": "QQD3dBztldLI",
    "outputId": "1e97d469-841c-4d1c-b322-7d8dc29ce402"
   },
   "outputs": [
    {
     "name": "stdout",
     "output_type": "stream",
     "text": [
      "9.612382069593949\n"
     ]
    }
   ],
   "source": [
    "# Model evaluation\n",
    "rmse_svm=np.sqrt(mean_squared_error(y_test, y_pred_svm))\n",
    "print(rmse_svm)"
   ]
  },
  {
   "cell_type": "markdown",
   "metadata": {
    "id": "Ot4jzglMqHSY"
   },
   "source": [
    "**Decision Tree Regressor**:It creates tree-structured models for classification or regression. It progressively develops a decision tree to go along with the breakdown of a dataset into smaller and smaller subgroups."
   ]
  },
  {
   "cell_type": "code",
   "execution_count": 17,
   "metadata": {
    "colab": {
     "base_uri": "https://localhost:8080/"
    },
    "executionInfo": {
     "elapsed": 747,
     "status": "ok",
     "timestamp": 1676640928152,
     "user": {
      "displayName": "ABHISHEK ABHI",
      "userId": "09081140127296701179"
     },
     "user_tz": 0
    },
    "id": "FgTFPLEeqRpW",
    "outputId": "57436dfa-35c7-4bb1-89dd-f262b7fa5db7"
   },
   "outputs": [],
   "source": [
    "# Build a model using decision tree regressor\n",
    "from sklearn.tree import DecisionTreeRegressor\n",
    "rgr_tree= DecisionTreeRegressor(random_state=42)\n",
    "rgr_tree.fit(x_train, y_train)\n",
    "y_predict_tree= rgr_tree.predict(x_test)"
   ]
  },
  {
   "cell_type": "code",
   "execution_count": 18,
   "metadata": {
    "colab": {
     "base_uri": "https://localhost:8080/"
    },
    "executionInfo": {
     "elapsed": 3,
     "status": "ok",
     "timestamp": 1676640934323,
     "user": {
      "displayName": "ABHISHEK ABHI",
      "userId": "09081140127296701179"
     },
     "user_tz": 0
    },
    "id": "rFUMRynh2qva",
    "outputId": "6a33a572-2e85-49c3-88f4-316a7cddc2d1"
   },
   "outputs": [
    {
     "name": "stdout",
     "output_type": "stream",
     "text": [
      "13.724977231310804\n"
     ]
    }
   ],
   "source": [
    "# Model evaluation\n",
    "rmse_tree=np.sqrt(mean_squared_error(y_test, y_predict_tree))\n",
    "print(rmse_tree)"
   ]
  },
  {
   "cell_type": "markdown",
   "metadata": {
    "id": "k8cyxxyI5pyH"
   },
   "source": [
    "**Random Forest Regressor**:It is an ensemble of Decision Trees, has employed in this instance.Hopefully, this approach will lead to a better model."
   ]
  },
  {
   "cell_type": "code",
   "execution_count": 19,
   "metadata": {
    "colab": {
     "base_uri": "https://localhost:8080/"
    },
    "executionInfo": {
     "elapsed": 7,
     "status": "ok",
     "timestamp": 1676640938176,
     "user": {
      "displayName": "ABHISHEK ABHI",
      "userId": "09081140127296701179"
     },
     "user_tz": 0
    },
    "id": "KfMlGDkx6iAL",
    "outputId": "b44ec4d0-c48c-41e0-af26-f461c1c91729"
   },
   "outputs": [],
   "source": [
    "##Using Random Forest Regressor to building the models\n",
    "rf=RandomForestRegressor(n_estimators=100, max_features=0.3, random_state=52)\n",
    "rf.fit(x_train, y_train)\n",
    "y_predict_rf=rf.predict(x_test)"
   ]
  },
  {
   "cell_type": "code",
   "execution_count": 20,
   "metadata": {
    "colab": {
     "base_uri": "https://localhost:8080/"
    },
    "executionInfo": {
     "elapsed": 698,
     "status": "ok",
     "timestamp": 1676640941936,
     "user": {
      "displayName": "ABHISHEK ABHI",
      "userId": "09081140127296701179"
     },
     "user_tz": 0
    },
    "id": "DHn-lq72ABYQ",
    "outputId": "28b200c3-4943-4037-b962-34f4d20cc355"
   },
   "outputs": [
    {
     "name": "stdout",
     "output_type": "stream",
     "text": [
      "9.104932417002436\n"
     ]
    }
   ],
   "source": [
    "# Model evaluation\n",
    "rmse_rf=np.sqrt(mean_squared_error(y_test, y_predict_rf))\n",
    "print(rmse_rf)"
   ]
  },
  {
   "cell_type": "markdown",
   "metadata": {
    "id": "5UvQ-a5Q7PXN"
   },
   "source": [
    "**gradient boosting regressor**: It determines the difference between the current forecast and the known correct target value."
   ]
  },
  {
   "cell_type": "code",
   "execution_count": 21,
   "metadata": {
    "executionInfo": {
     "elapsed": 331,
     "status": "ok",
     "timestamp": 1676640946399,
     "user": {
      "displayName": "ABHISHEK ABHI",
      "userId": "09081140127296701179"
     },
     "user_tz": 0
    },
    "id": "_xL_Z7vJCWAf"
   },
   "outputs": [],
   "source": [
    "# Building a model using gradient boosting regressor\n",
    "grad_reg=GradientBoostingRegressor(learning_rate=0.1, n_estimators=100, max_depth=1,random_state=42)\n",
    "grad_reg.fit(x_train, y_train)\n",
    "y_predict_grad=grad_reg.predict(x_test)"
   ]
  },
  {
   "cell_type": "code",
   "execution_count": 22,
   "metadata": {
    "colab": {
     "base_uri": "https://localhost:8080/"
    },
    "executionInfo": {
     "elapsed": 413,
     "status": "ok",
     "timestamp": 1676640949902,
     "user": {
      "displayName": "ABHISHEK ABHI",
      "userId": "09081140127296701179"
     },
     "user_tz": 0
    },
    "id": "b5NN3S9ndkwE",
    "outputId": "f3213f07-24b9-4a1a-acff-4d0bc6168e74"
   },
   "outputs": [
    {
     "name": "stdout",
     "output_type": "stream",
     "text": [
      "9.087756799306167\n"
     ]
    }
   ],
   "source": [
    "rmse_grad=np.sqrt(mean_squared_error(y_test, y_predict_grad))\n",
    "print(rmse_grad)"
   ]
  },
  {
   "cell_type": "code",
   "execution_count": 23,
   "metadata": {
    "colab": {
     "base_uri": "https://localhost:8080/"
    },
    "executionInfo": {
     "elapsed": 279,
     "status": "ok",
     "timestamp": 1676640954654,
     "user": {
      "displayName": "ABHISHEK ABHI",
      "userId": "09081140127296701179"
     },
     "user_tz": 0
    },
    "id": "jH_J60zEgmy4",
    "outputId": "f0a048dc-46f4-4553-ec0b-02cc23f51c94"
   },
   "outputs": [],
   "source": [
    "##Predicting the popularity of Test data and extracting the final output as a csv file.\n",
    "Result = pd.DataFrame()\n",
    "Result['Id']= Id\n",
    "Result['pop'] = pd.DataFrame(grad_reg.predict(song_test_data))\n",
    "Result.to_csv('Result_reg.csv', index= False)"
   ]
  },
  {
   "cell_type": "markdown",
   "metadata": {},
   "source": [
    "# Conclusion \n",
    "I have developed 5 models that have given different results on same dataset. Using data exploration and preprocessing and then feature engineering I have observed the correlation of various attributes to the popularity attribute. Using the above knowledge I have implemented various models with the results stated below: linear regression model 0.3643613408559908\n",
    "metrics 9.7083671145242 gradient boosting regressor 9.087756799306167 Random Forest Regressor 9.104932417002436 support vector machine (SVM) 9.612382069593949 Decision Tree Regressor 13.724977231310804. \n",
    "As we can see that the gradient boosing regressor outperforms others.Hence have used gradient boosing regressor model prediction in the test dataset and store the result"
   ]
  },
  {
   "cell_type": "markdown",
   "metadata": {},
   "source": [
    "References \n",
    "Hands-On Machine Learning with Scikit-Learn, Keras, and TensorFlow, 2nd Edition by Aurélien Géron \n",
    "Linear regression: https://scikit-learn.org/stable/modules/generated/sklearn.linear_model.LinearRegression.html\n",
    "[1]SVM: https://medium.com/pursuitnotes/support-vector-regression-in-6-steps-with-python-c4569acd062d [Accessed: 10- Feb- 2023].\n",
    "[2]Random forest regressor:https://scikit-learn.org/stable/modules/generated/sklearn.ensemble.RandomForestRegressor.html [Accessed: 10-Feb-2023].\n",
    "[3]Decision Trees,scikit-learn[Online]. Available: https://scikit-learn.org/stable/modules/tree.html [Accessed: 10- Feb- 2023].\n",
    "[4]Ensemble methods,scikit-learn[Online]. Available: https://scikit-learn.org/stable/modules/ensemble.html. [Accessed: 11- Feb- 2023].       "
   ]
  }
 ],
 "metadata": {
  "colab": {
   "authorship_tag": "ABX9TyOw945gKTv4TCYByFYebVor",
   "provenance": []
  },
  "kernelspec": {
   "display_name": "Python 3 (ipykernel)",
   "language": "python",
   "name": "python3"
  },
  "language_info": {
   "codemirror_mode": {
    "name": "ipython",
    "version": 3
   },
   "file_extension": ".py",
   "mimetype": "text/x-python",
   "name": "python",
   "nbconvert_exporter": "python",
   "pygments_lexer": "ipython3",
   "version": "3.9.13"
  }
 },
 "nbformat": 4,
 "nbformat_minor": 1
}
